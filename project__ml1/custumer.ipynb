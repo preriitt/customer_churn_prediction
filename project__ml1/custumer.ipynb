{
 "cells": [
  {
   "cell_type": "code",
   "execution_count": 1,
   "metadata": {},
   "outputs": [],
   "source": [
    "import pandas as pd\n",
    "import numpy as np\n",
    "import matplotlib.pyplot as plt\n",
    "import joblib\n",
    "from sklearn.model_selection import train_test_split\n",
    "from sklearn.preprocessing import LabelEncoder\n",
    "from sklearn.ensemble import RandomForestClassifier\n",
    "from sklearn.metrics import accuracy_score\n"
   ]
  },
  {
   "cell_type": "code",
   "execution_count": 2,
   "metadata": {},
   "outputs": [],
   "source": [
    "data=pd.read_csv(\"C:/Users/PRATEEK/Downloads/archive/customer_churn_data.csv\")\n"
   ]
  },
  {
   "cell_type": "code",
   "execution_count": 3,
   "metadata": {},
   "outputs": [
    {
     "data": {
      "text/plain": [
       "(1000, 10)"
      ]
     },
     "execution_count": 3,
     "metadata": {},
     "output_type": "execute_result"
    }
   ],
   "source": [
    "data.shape"
   ]
  },
  {
   "cell_type": "code",
   "execution_count": 5,
   "metadata": {},
   "outputs": [],
   "source": [
    "numeric_columss_data=data.select_dtypes(include=[\"int64\",\"float64\"])"
   ]
  },
  {
   "cell_type": "code",
   "execution_count": 6,
   "metadata": {},
   "outputs": [
    {
     "data": {
      "text/html": [
       "<div>\n",
       "<style scoped>\n",
       "    .dataframe tbody tr th:only-of-type {\n",
       "        vertical-align: middle;\n",
       "    }\n",
       "\n",
       "    .dataframe tbody tr th {\n",
       "        vertical-align: top;\n",
       "    }\n",
       "\n",
       "    .dataframe thead th {\n",
       "        text-align: right;\n",
       "    }\n",
       "</style>\n",
       "<table border=\"1\" class=\"dataframe\">\n",
       "  <thead>\n",
       "    <tr style=\"text-align: right;\">\n",
       "      <th></th>\n",
       "      <th>CustomerID</th>\n",
       "      <th>Age</th>\n",
       "      <th>Tenure</th>\n",
       "      <th>MonthlyCharges</th>\n",
       "      <th>TotalCharges</th>\n",
       "    </tr>\n",
       "  </thead>\n",
       "  <tbody>\n",
       "    <tr>\n",
       "      <th>CustomerID</th>\n",
       "      <td>1.000000</td>\n",
       "      <td>0.036730</td>\n",
       "      <td>-0.018585</td>\n",
       "      <td>-0.030504</td>\n",
       "      <td>-0.027490</td>\n",
       "    </tr>\n",
       "    <tr>\n",
       "      <th>Age</th>\n",
       "      <td>0.036730</td>\n",
       "      <td>1.000000</td>\n",
       "      <td>0.000472</td>\n",
       "      <td>0.006362</td>\n",
       "      <td>-0.001896</td>\n",
       "    </tr>\n",
       "    <tr>\n",
       "      <th>Tenure</th>\n",
       "      <td>-0.018585</td>\n",
       "      <td>0.000472</td>\n",
       "      <td>1.000000</td>\n",
       "      <td>-0.014552</td>\n",
       "      <td>0.894868</td>\n",
       "    </tr>\n",
       "    <tr>\n",
       "      <th>MonthlyCharges</th>\n",
       "      <td>-0.030504</td>\n",
       "      <td>0.006362</td>\n",
       "      <td>-0.014552</td>\n",
       "      <td>1.000000</td>\n",
       "      <td>0.304893</td>\n",
       "    </tr>\n",
       "    <tr>\n",
       "      <th>TotalCharges</th>\n",
       "      <td>-0.027490</td>\n",
       "      <td>-0.001896</td>\n",
       "      <td>0.894868</td>\n",
       "      <td>0.304893</td>\n",
       "      <td>1.000000</td>\n",
       "    </tr>\n",
       "  </tbody>\n",
       "</table>\n",
       "</div>"
      ],
      "text/plain": [
       "                CustomerID       Age    Tenure  MonthlyCharges  TotalCharges\n",
       "CustomerID        1.000000  0.036730 -0.018585       -0.030504     -0.027490\n",
       "Age               0.036730  1.000000  0.000472        0.006362     -0.001896\n",
       "Tenure           -0.018585  0.000472  1.000000       -0.014552      0.894868\n",
       "MonthlyCharges   -0.030504  0.006362 -0.014552        1.000000      0.304893\n",
       "TotalCharges     -0.027490 -0.001896  0.894868        0.304893      1.000000"
      ]
     },
     "execution_count": 6,
     "metadata": {},
     "output_type": "execute_result"
    }
   ],
   "source": [
    "numeric_columss_data.corr()"
   ]
  },
  {
   "cell_type": "code",
   "execution_count": 4,
   "metadata": {},
   "outputs": [
    {
     "data": {
      "text/html": [
       "<div>\n",
       "<style scoped>\n",
       "    .dataframe tbody tr th:only-of-type {\n",
       "        vertical-align: middle;\n",
       "    }\n",
       "\n",
       "    .dataframe tbody tr th {\n",
       "        vertical-align: top;\n",
       "    }\n",
       "\n",
       "    .dataframe thead th {\n",
       "        text-align: right;\n",
       "    }\n",
       "</style>\n",
       "<table border=\"1\" class=\"dataframe\">\n",
       "  <thead>\n",
       "    <tr style=\"text-align: right;\">\n",
       "      <th></th>\n",
       "      <th>CustomerID</th>\n",
       "      <th>Age</th>\n",
       "      <th>Tenure</th>\n",
       "      <th>MonthlyCharges</th>\n",
       "      <th>TotalCharges</th>\n",
       "    </tr>\n",
       "  </thead>\n",
       "  <tbody>\n",
       "    <tr>\n",
       "      <th>count</th>\n",
       "      <td>1000.000000</td>\n",
       "      <td>1000.000000</td>\n",
       "      <td>1000.00000</td>\n",
       "      <td>1000.000000</td>\n",
       "      <td>1000.000000</td>\n",
       "    </tr>\n",
       "    <tr>\n",
       "      <th>mean</th>\n",
       "      <td>500.500000</td>\n",
       "      <td>44.674000</td>\n",
       "      <td>18.97300</td>\n",
       "      <td>74.391290</td>\n",
       "      <td>1404.364060</td>\n",
       "    </tr>\n",
       "    <tr>\n",
       "      <th>std</th>\n",
       "      <td>288.819436</td>\n",
       "      <td>9.797741</td>\n",
       "      <td>18.89257</td>\n",
       "      <td>25.712083</td>\n",
       "      <td>1571.755048</td>\n",
       "    </tr>\n",
       "    <tr>\n",
       "      <th>min</th>\n",
       "      <td>1.000000</td>\n",
       "      <td>12.000000</td>\n",
       "      <td>0.00000</td>\n",
       "      <td>30.000000</td>\n",
       "      <td>0.000000</td>\n",
       "    </tr>\n",
       "    <tr>\n",
       "      <th>25%</th>\n",
       "      <td>250.750000</td>\n",
       "      <td>38.000000</td>\n",
       "      <td>5.00000</td>\n",
       "      <td>52.357500</td>\n",
       "      <td>345.217500</td>\n",
       "    </tr>\n",
       "    <tr>\n",
       "      <th>50%</th>\n",
       "      <td>500.500000</td>\n",
       "      <td>45.000000</td>\n",
       "      <td>13.00000</td>\n",
       "      <td>74.060000</td>\n",
       "      <td>872.870000</td>\n",
       "    </tr>\n",
       "    <tr>\n",
       "      <th>75%</th>\n",
       "      <td>750.250000</td>\n",
       "      <td>51.000000</td>\n",
       "      <td>26.00000</td>\n",
       "      <td>96.102500</td>\n",
       "      <td>1900.175000</td>\n",
       "    </tr>\n",
       "    <tr>\n",
       "      <th>max</th>\n",
       "      <td>1000.000000</td>\n",
       "      <td>83.000000</td>\n",
       "      <td>122.00000</td>\n",
       "      <td>119.960000</td>\n",
       "      <td>12416.250000</td>\n",
       "    </tr>\n",
       "  </tbody>\n",
       "</table>\n",
       "</div>"
      ],
      "text/plain": [
       "        CustomerID          Age      Tenure  MonthlyCharges  TotalCharges\n",
       "count  1000.000000  1000.000000  1000.00000     1000.000000   1000.000000\n",
       "mean    500.500000    44.674000    18.97300       74.391290   1404.364060\n",
       "std     288.819436     9.797741    18.89257       25.712083   1571.755048\n",
       "min       1.000000    12.000000     0.00000       30.000000      0.000000\n",
       "25%     250.750000    38.000000     5.00000       52.357500    345.217500\n",
       "50%     500.500000    45.000000    13.00000       74.060000    872.870000\n",
       "75%     750.250000    51.000000    26.00000       96.102500   1900.175000\n",
       "max    1000.000000    83.000000   122.00000      119.960000  12416.250000"
      ]
     },
     "execution_count": 4,
     "metadata": {},
     "output_type": "execute_result"
    }
   ],
   "source": [
    "data.describe()"
   ]
  },
  {
   "cell_type": "code",
   "execution_count": 8,
   "metadata": {},
   "outputs": [
    {
     "name": "stdout",
     "output_type": "stream",
     "text": [
      "Missing values:\n",
      " CustomerID           0\n",
      "Age                  0\n",
      "Gender               0\n",
      "Tenure               0\n",
      "MonthlyCharges       0\n",
      "ContractType         0\n",
      "InternetService    297\n",
      "TotalCharges         0\n",
      "TechSupport          0\n",
      "Churn                0\n",
      "dtype: int64\n"
     ]
    }
   ],
   "source": [
    "print(\"Missing values:\\n\", data.isnull().sum())"
   ]
  },
  {
   "cell_type": "code",
   "execution_count": 9,
   "metadata": {},
   "outputs": [
    {
     "data": {
      "image/png": "[encoded data removed]",
      "text/plain": [
       "<Figure size 640x480 with 1 Axes>"
      ]
     },
     "metadata": {},
     "output_type": "display_data"
    }
   ],
   "source": [
    "data.groupby(\"ContractType\")[\"MonthlyCharges\"].mean().plot(kind=\"bar\", ylabel=\"Mean Price\", title=\"Contract Type Average Price\")\n",
    "plt.show()  \n"
   ]
  },
  {
   "cell_type": "code",
   "execution_count": 10,
   "metadata": {},
   "outputs": [],
   "source": [
    "data[\"InternetService\"] = data[\"InternetService\"].fillna(\"Unknown\")\n"
   ]
  },
  {
   "cell_type": "code",
   "execution_count": 11,
   "metadata": {},
   "outputs": [
    {
     "data": {
      "image/png": "[encoded data removed]",
      "text/plain": [
       "<Figure size 640x480 with 1 Axes>"
      ]
     },
     "metadata": {},
     "output_type": "display_data"
    }
   ],
   "source": [
    "plt.hist(data[\"MonthlyCharges\"], bins=20, color='blue', edgecolor='black')\n",
    "plt.title(\"Histogram of Monthly Charges\")\n",
    "plt.xlabel(\"Monthly Charges\")\n",
    "plt.ylabel(\"Frequency\")\n",
    "plt.show()"
   ]
  },
  {
   "cell_type": "code",
   "execution_count": 12,
   "metadata": {},
   "outputs": [
    {
     "data": {
      "image/png": "[encoded data removed]",
      "text/plain": [
       "<Figure size 640x480 with 1 Axes>"
      ]
     },
     "metadata": {},
     "output_type": "display_data"
    }
   ],
   "source": [
    "plt.hist(data[\"Tenure\"])\n",
    "plt.title(\"histogram of tenure\")\n",
    "plt.show()"
   ]
  },
  {
   "cell_type": "code",
   "execution_count": 13,
   "metadata": {},
   "outputs": [
    {
     "data": {
      "text/plain": [
       "['encoders.pkl']"
      ]
     },
     "execution_count": 13,
     "metadata": {},
     "output_type": "execute_result"
    }
   ],
   "source": [
    "from sklearn.preprocessing import LabelEncoder\n",
    "\n",
    "# Encode categorical columns\n",
    "categorical_cols = [\"Gender\", \"ContractType\", \"InternetService\"]\n",
    "encoders = {}\n",
    "\n",
    "for col in categorical_cols:\n",
    "    le = LabelEncoder()\n",
    "    data[col] = le.fit_transform(data[col])\n",
    "    encoders[col] = le  # Store encoders for later use\n",
    "\n",
    "# Save encoders\n",
    "import joblib\n",
    "joblib.dump(encoders, \"encoders.pkl\")\n"
   ]
  },
  {
   "cell_type": "code",
   "execution_count": 15,
   "metadata": {},
   "outputs": [
    {
     "name": "stdout",
     "output_type": "stream",
     "text": [
      "MonthlyCharges    0.386949\n",
      "Tenure            0.360223\n",
      "Age               0.214136\n",
      "Gender            0.038692\n",
      "dtype: float64\n"
     ]
    },
    {
     "data": {
      "text/plain": [
       "['model.pkl']"
      ]
     },
     "execution_count": 15,
     "metadata": {},
     "output_type": "execute_result"
    }
   ],
   "source": [
    "X = data[['Age', 'Gender', 'Tenure', 'MonthlyCharges']]  # Use only these\n",
    "y = data[\"Churn\"]\n",
    "\n",
    "from sklearn.model_selection import train_test_split\n",
    "X_train, X_test, y_train, y_test = train_test_split(X, y, test_size=0.2, random_state=42)\n",
    "\n",
    "from sklearn.ensemble import RandomForestClassifier\n",
    "model = RandomForestClassifier(random_state=42)\n",
    "model.fit(X_train, y_train)\n",
    "\n",
    "feature_importances=pd.Series(model.feature_importances_,index=X.columns)\n",
    "print(feature_importances.sort_values(ascending=False))\n",
    "\n",
    "# Save the trained model\n",
    "joblib.dump(model, \"model.pkl\")\n"
   ]
  },
  {
   "cell_type": "code",
   "execution_count": 16,
   "metadata": {},
   "outputs": [
    {
     "data": {
      "text/html": [
       "<div>\n",
       "<style scoped>\n",
       "    .dataframe tbody tr th:only-of-type {\n",
       "        vertical-align: middle;\n",
       "    }\n",
       "\n",
       "    .dataframe tbody tr th {\n",
       "        vertical-align: top;\n",
       "    }\n",
       "\n",
       "    .dataframe thead th {\n",
       "        text-align: right;\n",
       "    }\n",
       "</style>\n",
       "<table border=\"1\" class=\"dataframe\">\n",
       "  <thead>\n",
       "    <tr style=\"text-align: right;\">\n",
       "      <th></th>\n",
       "      <th>CustomerID</th>\n",
       "      <th>Age</th>\n",
       "      <th>Gender</th>\n",
       "      <th>Tenure</th>\n",
       "      <th>MonthlyCharges</th>\n",
       "      <th>ContractType</th>\n",
       "      <th>InternetService</th>\n",
       "      <th>TotalCharges</th>\n",
       "      <th>TechSupport</th>\n",
       "      <th>Churn</th>\n",
       "    </tr>\n",
       "  </thead>\n",
       "  <tbody>\n",
       "    <tr>\n",
       "      <th>0</th>\n",
       "      <td>1</td>\n",
       "      <td>49</td>\n",
       "      <td>1</td>\n",
       "      <td>4</td>\n",
       "      <td>88.35</td>\n",
       "      <td>0</td>\n",
       "      <td>1</td>\n",
       "      <td>353.40</td>\n",
       "      <td>Yes</td>\n",
       "      <td>Yes</td>\n",
       "    </tr>\n",
       "    <tr>\n",
       "      <th>1</th>\n",
       "      <td>2</td>\n",
       "      <td>43</td>\n",
       "      <td>1</td>\n",
       "      <td>0</td>\n",
       "      <td>36.67</td>\n",
       "      <td>0</td>\n",
       "      <td>1</td>\n",
       "      <td>0.00</td>\n",
       "      <td>Yes</td>\n",
       "      <td>Yes</td>\n",
       "    </tr>\n",
       "    <tr>\n",
       "      <th>2</th>\n",
       "      <td>3</td>\n",
       "      <td>51</td>\n",
       "      <td>0</td>\n",
       "      <td>2</td>\n",
       "      <td>63.79</td>\n",
       "      <td>0</td>\n",
       "      <td>1</td>\n",
       "      <td>127.58</td>\n",
       "      <td>No</td>\n",
       "      <td>Yes</td>\n",
       "    </tr>\n",
       "    <tr>\n",
       "      <th>3</th>\n",
       "      <td>4</td>\n",
       "      <td>60</td>\n",
       "      <td>0</td>\n",
       "      <td>8</td>\n",
       "      <td>102.34</td>\n",
       "      <td>1</td>\n",
       "      <td>0</td>\n",
       "      <td>818.72</td>\n",
       "      <td>Yes</td>\n",
       "      <td>Yes</td>\n",
       "    </tr>\n",
       "    <tr>\n",
       "      <th>4</th>\n",
       "      <td>5</td>\n",
       "      <td>42</td>\n",
       "      <td>1</td>\n",
       "      <td>32</td>\n",
       "      <td>69.01</td>\n",
       "      <td>0</td>\n",
       "      <td>2</td>\n",
       "      <td>2208.32</td>\n",
       "      <td>No</td>\n",
       "      <td>Yes</td>\n",
       "    </tr>\n",
       "    <tr>\n",
       "      <th>5</th>\n",
       "      <td>6</td>\n",
       "      <td>42</td>\n",
       "      <td>0</td>\n",
       "      <td>16</td>\n",
       "      <td>119.75</td>\n",
       "      <td>2</td>\n",
       "      <td>0</td>\n",
       "      <td>1916.00</td>\n",
       "      <td>Yes</td>\n",
       "      <td>Yes</td>\n",
       "    </tr>\n",
       "    <tr>\n",
       "      <th>6</th>\n",
       "      <td>7</td>\n",
       "      <td>60</td>\n",
       "      <td>1</td>\n",
       "      <td>14</td>\n",
       "      <td>80.32</td>\n",
       "      <td>1</td>\n",
       "      <td>2</td>\n",
       "      <td>1124.48</td>\n",
       "      <td>No</td>\n",
       "      <td>Yes</td>\n",
       "    </tr>\n",
       "    <tr>\n",
       "      <th>7</th>\n",
       "      <td>8</td>\n",
       "      <td>52</td>\n",
       "      <td>0</td>\n",
       "      <td>6</td>\n",
       "      <td>58.90</td>\n",
       "      <td>1</td>\n",
       "      <td>2</td>\n",
       "      <td>353.40</td>\n",
       "      <td>No</td>\n",
       "      <td>Yes</td>\n",
       "    </tr>\n",
       "    <tr>\n",
       "      <th>8</th>\n",
       "      <td>9</td>\n",
       "      <td>40</td>\n",
       "      <td>0</td>\n",
       "      <td>53</td>\n",
       "      <td>49.81</td>\n",
       "      <td>2</td>\n",
       "      <td>1</td>\n",
       "      <td>2639.93</td>\n",
       "      <td>Yes</td>\n",
       "      <td>No</td>\n",
       "    </tr>\n",
       "    <tr>\n",
       "      <th>9</th>\n",
       "      <td>10</td>\n",
       "      <td>50</td>\n",
       "      <td>0</td>\n",
       "      <td>10</td>\n",
       "      <td>61.55</td>\n",
       "      <td>0</td>\n",
       "      <td>1</td>\n",
       "      <td>615.50</td>\n",
       "      <td>Yes</td>\n",
       "      <td>Yes</td>\n",
       "    </tr>\n",
       "    <tr>\n",
       "      <th>10</th>\n",
       "      <td>11</td>\n",
       "      <td>40</td>\n",
       "      <td>0</td>\n",
       "      <td>1</td>\n",
       "      <td>63.53</td>\n",
       "      <td>0</td>\n",
       "      <td>1</td>\n",
       "      <td>63.53</td>\n",
       "      <td>Yes</td>\n",
       "      <td>Yes</td>\n",
       "    </tr>\n",
       "    <tr>\n",
       "      <th>11</th>\n",
       "      <td>12</td>\n",
       "      <td>40</td>\n",
       "      <td>0</td>\n",
       "      <td>19</td>\n",
       "      <td>36.18</td>\n",
       "      <td>1</td>\n",
       "      <td>1</td>\n",
       "      <td>687.42</td>\n",
       "      <td>Yes</td>\n",
       "      <td>No</td>\n",
       "    </tr>\n",
       "    <tr>\n",
       "      <th>12</th>\n",
       "      <td>13</td>\n",
       "      <td>47</td>\n",
       "      <td>1</td>\n",
       "      <td>2</td>\n",
       "      <td>63.26</td>\n",
       "      <td>2</td>\n",
       "      <td>2</td>\n",
       "      <td>126.52</td>\n",
       "      <td>No</td>\n",
       "      <td>Yes</td>\n",
       "    </tr>\n",
       "    <tr>\n",
       "      <th>13</th>\n",
       "      <td>14</td>\n",
       "      <td>25</td>\n",
       "      <td>0</td>\n",
       "      <td>8</td>\n",
       "      <td>71.78</td>\n",
       "      <td>1</td>\n",
       "      <td>2</td>\n",
       "      <td>574.24</td>\n",
       "      <td>No</td>\n",
       "      <td>Yes</td>\n",
       "    </tr>\n",
       "    <tr>\n",
       "      <th>14</th>\n",
       "      <td>15</td>\n",
       "      <td>27</td>\n",
       "      <td>1</td>\n",
       "      <td>14</td>\n",
       "      <td>95.05</td>\n",
       "      <td>0</td>\n",
       "      <td>1</td>\n",
       "      <td>1330.70</td>\n",
       "      <td>Yes</td>\n",
       "      <td>Yes</td>\n",
       "    </tr>\n",
       "    <tr>\n",
       "      <th>15</th>\n",
       "      <td>16</td>\n",
       "      <td>39</td>\n",
       "      <td>0</td>\n",
       "      <td>41</td>\n",
       "      <td>89.11</td>\n",
       "      <td>2</td>\n",
       "      <td>1</td>\n",
       "      <td>3653.51</td>\n",
       "      <td>Yes</td>\n",
       "      <td>No</td>\n",
       "    </tr>\n",
       "    <tr>\n",
       "      <th>16</th>\n",
       "      <td>17</td>\n",
       "      <td>34</td>\n",
       "      <td>0</td>\n",
       "      <td>13</td>\n",
       "      <td>93.79</td>\n",
       "      <td>0</td>\n",
       "      <td>2</td>\n",
       "      <td>1219.27</td>\n",
       "      <td>No</td>\n",
       "      <td>Yes</td>\n",
       "    </tr>\n",
       "    <tr>\n",
       "      <th>17</th>\n",
       "      <td>18</td>\n",
       "      <td>48</td>\n",
       "      <td>0</td>\n",
       "      <td>24</td>\n",
       "      <td>30.75</td>\n",
       "      <td>2</td>\n",
       "      <td>2</td>\n",
       "      <td>738.00</td>\n",
       "      <td>No</td>\n",
       "      <td>Yes</td>\n",
       "    </tr>\n",
       "    <tr>\n",
       "      <th>18</th>\n",
       "      <td>19</td>\n",
       "      <td>35</td>\n",
       "      <td>1</td>\n",
       "      <td>98</td>\n",
       "      <td>49.59</td>\n",
       "      <td>2</td>\n",
       "      <td>1</td>\n",
       "      <td>4859.82</td>\n",
       "      <td>Yes</td>\n",
       "      <td>No</td>\n",
       "    </tr>\n",
       "    <tr>\n",
       "      <th>19</th>\n",
       "      <td>20</td>\n",
       "      <td>30</td>\n",
       "      <td>0</td>\n",
       "      <td>2</td>\n",
       "      <td>89.55</td>\n",
       "      <td>0</td>\n",
       "      <td>1</td>\n",
       "      <td>179.10</td>\n",
       "      <td>No</td>\n",
       "      <td>Yes</td>\n",
       "    </tr>\n",
       "  </tbody>\n",
       "</table>\n",
       "</div>"
      ],
      "text/plain": [
       "    CustomerID  Age  Gender  Tenure  MonthlyCharges  ContractType  \\\n",
       "0            1   49       1       4           88.35             0   \n",
       "1            2   43       1       0           36.67             0   \n",
       "2            3   51       0       2           63.79             0   \n",
       "3            4   60       0       8          102.34             1   \n",
       "4            5   42       1      32           69.01             0   \n",
       "5            6   42       0      16          119.75             2   \n",
       "6            7   60       1      14           80.32             1   \n",
       "7            8   52       0       6           58.90             1   \n",
       "8            9   40       0      53           49.81             2   \n",
       "9           10   50       0      10           61.55             0   \n",
       "10          11   40       0       1           63.53             0   \n",
       "11          12   40       0      19           36.18             1   \n",
       "12          13   47       1       2           63.26             2   \n",
       "13          14   25       0       8           71.78             1   \n",
       "14          15   27       1      14           95.05             0   \n",
       "15          16   39       0      41           89.11             2   \n",
       "16          17   34       0      13           93.79             0   \n",
       "17          18   48       0      24           30.75             2   \n",
       "18          19   35       1      98           49.59             2   \n",
       "19          20   30       0       2           89.55             0   \n",
       "\n",
       "    InternetService  TotalCharges TechSupport Churn  \n",
       "0                 1        353.40         Yes   Yes  \n",
       "1                 1          0.00         Yes   Yes  \n",
       "2                 1        127.58          No   Yes  \n",
       "3                 0        818.72         Yes   Yes  \n",
       "4                 2       2208.32          No   Yes  \n",
       "5                 0       1916.00         Yes   Yes  \n",
       "6                 2       1124.48          No   Yes  \n",
       "7                 2        353.40          No   Yes  \n",
       "8                 1       2639.93         Yes    No  \n",
       "9                 1        615.50         Yes   Yes  \n",
       "10                1         63.53         Yes   Yes  \n",
       "11                1        687.42         Yes    No  \n",
       "12                2        126.52          No   Yes  \n",
       "13                2        574.24          No   Yes  \n",
       "14                1       1330.70         Yes   Yes  \n",
       "15                1       3653.51         Yes    No  \n",
       "16                2       1219.27          No   Yes  \n",
       "17                2        738.00          No   Yes  \n",
       "18                1       4859.82         Yes    No  \n",
       "19                1        179.10          No   Yes  "
      ]
     },
     "execution_count": 16,
     "metadata": {},
     "output_type": "execute_result"
    }
   ],
   "source": [
    "data.head(20)"
   ]
  },
  {
   "cell_type": "code",
   "execution_count": 17,
   "metadata": {},
   "outputs": [
    {
     "name": "stderr",
     "output_type": "stream",
     "text": [
      "C:\\Users\\PRATEEK\\AppData\\Roaming\\Python\\Python312\\site-packages\\sklearn\\base.py:493: UserWarning: X does not have valid feature names, but RandomForestClassifier was fitted with feature names\n",
      "  warnings.warn(\n"
     ]
    },
    {
     "data": {
      "text/plain": [
       "'No'"
      ]
     },
     "execution_count": 17,
     "metadata": {},
     "output_type": "execute_result"
    }
   ],
   "source": [
    "model.predict([[35,1,98,49.59]])[0]"
   ]
  },
  {
   "cell_type": "code",
   "execution_count": 18,
   "metadata": {},
   "outputs": [
    {
     "name": "stdout",
     "output_type": "stream",
     "text": [
      "Accuracy: 0.87\n"
     ]
    }
   ],
   "source": [
    "# Make predictions on test data\n",
    "y_pred = model.predict(X_test)\n",
    "\n",
    "# Calculate accuracy\n",
    "accuracy = accuracy_score(y_test, y_pred)\n",
    "print(f\"Accuracy: {accuracy:.2f}\")\n"
   ]
  },
  {
   "cell_type": "code",
   "execution_count": 19,
   "metadata": {},
   "outputs": [
    {
     "name": "stdout",
     "output_type": "stream",
     "text": [
      "Training Accuracy: 1.00\n",
      "Test Accuracy: 0.87\n"
     ]
    }
   ],
   "source": [
    "\n",
    "\n",
    "# Check accuracy on training data\n",
    "y_train_pred = model.predict(X_train)\n",
    "train_acc = accuracy_score(y_train, y_train_pred)\n",
    "\n",
    "# Check accuracy on test data\n",
    "y_test_pred = model.predict(X_test)\n",
    "test_acc = accuracy_score(y_test, y_test_pred)\n",
    "\n",
    "print(f\"Training Accuracy: {train_acc:.2f}\")\n",
    "print(f\"Test Accuracy: {test_acc:.2f}\")"
   ]
  },
  {
   "cell_type": "code",
   "execution_count": 20,
   "metadata": {},
   "outputs": [
    {
     "name": "stdout",
     "output_type": "stream",
     "text": [
      "Mean CV Score: 0.8679877482272692\n"
     ]
    }
   ],
   "source": [
    "from sklearn.model_selection import cross_val_score\n",
    "\n",
    "scores = cross_val_score(model, X, y, cv=3)\n",
    "print(\"Mean CV Score:\", scores.mean())"
   ]
  },
  {
   "cell_type": "code",
   "execution_count": 21,
   "metadata": {},
   "outputs": [
    {
     "name": "stdout",
     "output_type": "stream",
     "text": [
      "Accuracy: 0.87\n",
      "Classification Report:\n",
      "               precision    recall  f1-score   support\n",
      "\n",
      "          No       0.29      0.09      0.13        23\n",
      "         Yes       0.89      0.97      0.93       177\n",
      "\n",
      "    accuracy                           0.87       200\n",
      "   macro avg       0.59      0.53      0.53       200\n",
      "weighted avg       0.82      0.87      0.84       200\n",
      "\n",
      "Confusion Matrix:\n",
      " [[  2  21]\n",
      " [  5 172]]\n"
     ]
    }
   ],
   "source": [
    "from sklearn.metrics import accuracy_score, classification_report, confusion_matrix\n",
    "\n",
    "y_pred = model.predict(X_test)\n",
    "print(\"Accuracy:\", accuracy_score(y_test, y_pred))\n",
    "print(\"Classification Report:\\n\", classification_report(y_test, y_pred))\n",
    "print(\"Confusion Matrix:\\n\", confusion_matrix(y_test, y_pred))\n"
   ]
  },
  {
   "cell_type": "code",
   "execution_count": null,
   "metadata": {},
   "outputs": [],
   "source": []
  },
  {
   "cell_type": "code",
   "execution_count": null,
   "metadata": {},
   "outputs": [],
   "source": []
  }
 ],
 "metadata": {
  "kernelspec": {
   "display_name": "Python 3",
   "language": "python",
   "name": "python3"
  },
  "language_info": {
   "codemirror_mode": {
    "name": "ipython",
    "version": 3
   },
   "file_extension": ".py",
   "mimetype": "text/x-python",
   "name": "python",
   "nbconvert_exporter": "python",
   "pygments_lexer": "ipython3",
   "version": "3.12.2"
  }
 },
 "nbformat": 4,
 "nbformat_minor": 2
}
